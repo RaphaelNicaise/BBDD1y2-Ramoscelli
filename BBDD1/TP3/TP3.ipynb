{
  "cells": [
    {
      "cell_type": "markdown",
      "id": "QuMn1Lbbdz7p",
      "metadata": {
        "id": "QuMn1Lbbdz7p"
      },
      "source": [
        "# Código de inicialización\n",
        "Este código permite inicializar las bibliotecas para usar SQLite en la máquina virtual de Google Colab. El código además elimina cualquier dato almacenado anteriormente en el archvio `ejemplos.db`. Es recomendable volver a correr el código cada vez que se comience con la resolución de un nuevo ejercicio."
      ]
    },
    {
      "cell_type": "code",
      "execution_count": 1,
      "id": "DRIupxipNuoC",
      "metadata": {
        "colab": {
          "base_uri": "https://localhost:8080/"
        },
        "id": "DRIupxipNuoC",
        "outputId": "9c444bb9-4ab1-437c-8f20-afa9a779b3b4"
      },
      "outputs": [
        {
          "name": "stdout",
          "output_type": "stream",
          "text": [
            "Collecting pymysql\n",
            "  Downloading PyMySQL-1.1.1-py3-none-any.whl.metadata (4.4 kB)\n",
            "Downloading PyMySQL-1.1.1-py3-none-any.whl (44 kB)\n",
            "\u001b[2K   \u001b[90m━━━━━━━━━━━━━━━━━━━━━━━━━━━━━━━━━━━━━━━━\u001b[0m \u001b[32m45.0/45.0 kB\u001b[0m \u001b[31m1.6 MB/s\u001b[0m eta \u001b[36m0:00:00\u001b[0m\n",
            "\u001b[?25hInstalling collected packages: pymysql\n",
            "Successfully installed pymysql-1.1.1\n"
          ]
        }
      ],
      "source": [
        "!pip install pymysql\n",
        "%load_ext sql\n",
        "!rm -rf ejemplos.db\n",
        "%sql sqlite:///ejemplos.db"
      ]
    },
    {
      "cell_type": "markdown",
      "id": "cVK-sijYVIH5",
      "metadata": {
        "id": "cVK-sijYVIH5"
      },
      "source": [
        "# EJERCICIOS DE GROUP y HAVING"
      ]
    },
    {
      "cell_type": "markdown",
      "id": "NsVx4_K4NiXp",
      "metadata": {
        "id": "NsVx4_K4NiXp"
      },
      "source": [
        "## Ejercicio 1: Ventas por Ciudad de distintos insumos informáticos\n",
        "\n",
        "Tienes dos tablas llamadas `Ventas` y `Productos`:\n",
        "\n",
        "- La tabla `Ventas` tiene las siguientes columnas:\n",
        "  - `VentaID` (INT)\n",
        "  - `ProductoID` (INT, FOREIGN KEY que referencia a `Productos(ProductoID)`)\n",
        "  - `CantidadVendida` (INT)\n",
        "  - `PrecioUnitario` (DECIMAL)\n",
        "  - `Ciudad` (VARCHAR)\n",
        "\n",
        "- La tabla `Productos` tiene las siguientes columnas:\n",
        "  - `ProductoID` (INT, PRIMARY KEY)\n",
        "  - `NombreProducto` (VARCHAR)\n",
        "  - `Precio` (DECIMAL)\n",
        "\n",
        "Deseas analizar las ventas por ciudad, combinando la información de ambas tablas para mostrar el nombre de los productos vendidos y el total de ingresos generados por cada ciudad."
      ]
    },
    {
      "cell_type": "code",
      "execution_count": 2,
      "id": "k5xOpu04NiXr",
      "metadata": {
        "colab": {
          "base_uri": "https://localhost:8080/"
        },
        "id": "k5xOpu04NiXr",
        "outputId": "6208ad67-07a7-4039-f5d3-7e754b657dd9"
      },
      "outputs": [
        {
          "name": "stdout",
          "output_type": "stream",
          "text": [
            " * sqlite:///ejemplos.db\n",
            "Done.\n",
            "Done.\n"
          ]
        },
        {
          "data": {
            "text/plain": [
              "[]"
            ]
          },
          "execution_count": 2,
          "metadata": {},
          "output_type": "execute_result"
        }
      ],
      "source": [
        "%%sql\n",
        "-- Escribe aquí el código DDL para crear las tablas Ventas y Productos\n",
        "create table Ventas(\n",
        "  VentaID INT,\n",
        "  ProductoID INT,\n",
        "  CantidadVendida INT,\n",
        "  PrecioUnitario DECIMAL,\n",
        "  Ciudad VARCHAR,\n",
        "  FOREIGN KEY (ProductoID) REFERENCES Productos(ProductoID)\n",
        ");\n",
        "\n",
        "create table Productos(\n",
        "  ProductoID INT PRIMARY KEY,\n",
        "  NombreProducto VARCHAR,\n",
        "  Precio DECIMAL\n",
        ");"
      ]
    },
    {
      "cell_type": "markdown",
      "id": "im4yKrVtNiXt",
      "metadata": {
        "id": "im4yKrVtNiXt"
      },
      "source": [
        "**Rellenado de la tabla Ventas**\n",
        "\n"
      ]
    },
    {
      "cell_type": "code",
      "execution_count": null,
      "id": "71b6196d",
      "metadata": {
        "colab": {
          "base_uri": "https://localhost:8080/"
        },
        "id": "71b6196d",
        "outputId": "75d54667-f21b-4272-b942-93d74fa07e9b"
      },
      "outputs": [],
      "source": [
        "# Población de la tabla Ventas\n",
        "# Insertar datos en la tabla Ventas\n",
        "%%sql\n",
        "INSERT INTO Ventas (VentaID, ProductoID, CantidadVendida, PrecioUnitario, Ciudad) VALUES (5, 1, 6, 45.00, 'Buenos Aires');\n",
        "INSERT INTO Ventas (VentaID, ProductoID, CantidadVendida, PrecioUnitario, Ciudad) VALUES (6, 12, 9, 35.00, 'Córdoba');\n",
        "INSERT INTO Ventas (VentaID, ProductoID, CantidadVendida, PrecioUnitario, Ciudad) VALUES (7, 2, 4, 20.00, 'Rosario');\n",
        "INSERT INTO Ventas (VentaID, ProductoID, CantidadVendida, PrecioUnitario, Ciudad) VALUES (8, 13, 12, 60.00, 'Mendoza');\n",
        "INSERT INTO Ventas (VentaID, ProductoID, CantidadVendida, PrecioUnitario, Ciudad) VALUES (9, 3, 7, 55.00, 'La Plata');\n",
        "INSERT INTO Ventas (VentaID, ProductoID, CantidadVendida, PrecioUnitario, Ciudad) VALUES (10, 3, 5, 32.50, 'San Miguel de Tucumán');\n",
        "INSERT INTO Ventas (VentaID, ProductoID, CantidadVendida, PrecioUnitario, Ciudad) VALUES (11, 11, 3, 28.00, 'Salta');\n",
        "INSERT INTO Ventas (VentaID, ProductoID, CantidadVendida, PrecioUnitario, Ciudad) VALUES (12, 11, 8, 40.00, 'Mar del Plata');\n",
        "INSERT INTO Ventas (VentaID, ProductoID, CantidadVendida, PrecioUnitario, Ciudad) VALUES (13, 11, 11, 70.00, 'Santa Fe');\n",
        "INSERT INTO Ventas (VentaID, ProductoID, CantidadVendida, PrecioUnitario, Ciudad) VALUES (14, 11, 4, 25.00, 'San Juan');\n",
        "INSERT INTO Ventas (VentaID, ProductoID, CantidadVendida, PrecioUnitario, Ciudad) VALUES (15, 11, 9, 35.00, 'Neuquén');\n",
        "INSERT INTO Ventas (VentaID, ProductoID, CantidadVendida, PrecioUnitario, Ciudad) VALUES (16, 11, 6, 45.00, 'Posadas');\n",
        "INSERT INTO Ventas (VentaID, ProductoID, CantidadVendida, PrecioUnitario, Ciudad) VALUES (17, 13, 10, 50.00, 'Bahía Blanca');\n",
        "INSERT INTO Ventas (VentaID, ProductoID, CantidadVendida, PrecioUnitario, Ciudad) VALUES (18, 11, 12, 65.00, 'San Salvador de Jujuy');\n",
        "INSERT INTO Ventas (VentaID, ProductoID, CantidadVendida, PrecioUnitario, Ciudad) VALUES (19, 15, 3, 22.50, 'Comodoro Rivadavia');\n",
        "\n",
        "INSERT INTO Productos (ProductoID, NombreProducto, Precio) VALUES (1, 'Teclado Mecánico', 75.00);\n",
        "INSERT INTO Productos (ProductoID, NombreProducto, Precio) VALUES (2, 'Mouse Inalámbrico', 45.00);\n",
        "INSERT INTO Productos (ProductoID, NombreProducto, Precio) VALUES (3, 'Monitor 24 Pulgadas', 150.00);\n",
        "INSERT INTO Productos (ProductoID, NombreProducto, Precio) VALUES (4, 'Disco Duro SSD 1TB', 120.00);\n",
        "INSERT INTO Productos (ProductoID, NombreProducto, Precio) VALUES (5, 'Memoria RAM 16GB', 80.00);\n",
        "INSERT INTO Productos (ProductoID, NombreProducto, Precio) VALUES (6, 'Placa Madre ATX', 200.00);\n",
        "INSERT INTO Productos (ProductoID, NombreProducto, Precio) VALUES (7, 'Tarjeta Gráfica 6GB', 350.00);\n",
        "INSERT INTO Productos (ProductoID, NombreProducto, Precio) VALUES (8, 'Auriculares con Micrófono', 60.00);\n",
        "INSERT INTO Productos (ProductoID, NombreProducto, Precio) VALUES (9, 'Cámara Web HD', 55.00);\n",
        "INSERT INTO Productos (ProductoID, NombreProducto, Precio) VALUES (10, 'Micrófono de Condensador', 90.00);\n",
        "INSERT INTO Productos (ProductoID, NombreProducto, Precio) VALUES (11, 'Router WiFi 6', 130.00);\n",
        "INSERT INTO Productos (ProductoID, NombreProducto, Precio) VALUES (12, 'Impresora Láser', 180.00);\n",
        "INSERT INTO Productos (ProductoID, NombreProducto, Precio) VALUES (13, 'Soporte Monitor Ajustable', 25.00);\n",
        "INSERT INTO Productos (ProductoID, NombreProducto, Precio) VALUES (14, 'Teclado Inalámbrico', 50.00);\n",
        "INSERT INTO Productos (ProductoID, NombreProducto, Precio) VALUES (15, 'Mouse Gaming', 40.00);\n",
        "\n"
      ]
    },
    {
      "cell_type": "markdown",
      "id": "622zROEDNiXt",
      "metadata": {
        "id": "622zROEDNiXt"
      },
      "source": [
        "**Consignas del ejercicio:**\n",
        "\n",
        "1. Encuentre el total de ingresos (`CantidadVendida * PrecioUnitario`) por cada ciudad.\n"
      ]
    },
    {
      "cell_type": "code",
      "execution_count": 4,
      "id": "zuIw9B9UNiXu",
      "metadata": {
        "colab": {
          "base_uri": "https://localhost:8080/",
          "height": 390
        },
        "id": "zuIw9B9UNiXu",
        "outputId": "f3fda288-69ab-4db7-c610-c5fbf9d3fb2a"
      },
      "outputs": [
        {
          "name": "stdout",
          "output_type": "stream",
          "text": [
            " * sqlite:///ejemplos.db\n",
            "Done.\n"
          ]
        },
        {
          "data": {
            "text/html": [
              "<table>\n",
              "    <thead>\n",
              "        <tr>\n",
              "            <th>Ciudad</th>\n",
              "            <th>TotalIngresos</th>\n",
              "        </tr>\n",
              "    </thead>\n",
              "    <tbody>\n",
              "        <tr>\n",
              "            <td>Bahía Blanca</td>\n",
              "            <td>500</td>\n",
              "        </tr>\n",
              "        <tr>\n",
              "            <td>Buenos Aires</td>\n",
              "            <td>270</td>\n",
              "        </tr>\n",
              "        <tr>\n",
              "            <td>Comodoro Rivadavia</td>\n",
              "            <td>67.5</td>\n",
              "        </tr>\n",
              "        <tr>\n",
              "            <td>Córdoba</td>\n",
              "            <td>315</td>\n",
              "        </tr>\n",
              "        <tr>\n",
              "            <td>La Plata</td>\n",
              "            <td>385</td>\n",
              "        </tr>\n",
              "        <tr>\n",
              "            <td>Mar del Plata</td>\n",
              "            <td>320</td>\n",
              "        </tr>\n",
              "        <tr>\n",
              "            <td>Mendoza</td>\n",
              "            <td>720</td>\n",
              "        </tr>\n",
              "        <tr>\n",
              "            <td>Neuquén</td>\n",
              "            <td>315</td>\n",
              "        </tr>\n",
              "        <tr>\n",
              "            <td>Posadas</td>\n",
              "            <td>270</td>\n",
              "        </tr>\n",
              "        <tr>\n",
              "            <td>Rosario</td>\n",
              "            <td>80</td>\n",
              "        </tr>\n",
              "        <tr>\n",
              "            <td>Salta</td>\n",
              "            <td>84</td>\n",
              "        </tr>\n",
              "        <tr>\n",
              "            <td>San Juan</td>\n",
              "            <td>100</td>\n",
              "        </tr>\n",
              "        <tr>\n",
              "            <td>San Miguel de Tucumán</td>\n",
              "            <td>162.5</td>\n",
              "        </tr>\n",
              "        <tr>\n",
              "            <td>San Salvador de Jujuy</td>\n",
              "            <td>780</td>\n",
              "        </tr>\n",
              "        <tr>\n",
              "            <td>Santa Fe</td>\n",
              "            <td>770</td>\n",
              "        </tr>\n",
              "    </tbody>\n",
              "</table>"
            ],
            "text/plain": [
              "[('Bahía Blanca', 500),\n",
              " ('Buenos Aires', 270),\n",
              " ('Comodoro Rivadavia', 67.5),\n",
              " ('Córdoba', 315),\n",
              " ('La Plata', 385),\n",
              " ('Mar del Plata', 320),\n",
              " ('Mendoza', 720),\n",
              " ('Neuquén', 315),\n",
              " ('Posadas', 270),\n",
              " ('Rosario', 80),\n",
              " ('Salta', 84),\n",
              " ('San Juan', 100),\n",
              " ('San Miguel de Tucumán', 162.5),\n",
              " ('San Salvador de Jujuy', 780),\n",
              " ('Santa Fe', 770)]"
            ]
          },
          "execution_count": 4,
          "metadata": {},
          "output_type": "execute_result"
        }
      ],
      "source": [
        "%%sql\n",
        "select Ventas.Ciudad, sum(Ventas.CantidadVendida * Ventas.PrecioUnitario) as TotalIngresos\n",
        "from Ventas\n",
        "group by Ventas.Ciudad;"
      ]
    },
    {
      "cell_type": "markdown",
      "id": "b96bb132",
      "metadata": {
        "id": "b96bb132"
      },
      "source": [
        "2. Escriba el código SQL para listar las Ciudades cuyo total de ingresos supera los $500."
      ]
    },
    {
      "cell_type": "code",
      "execution_count": 5,
      "id": "ACqNMaDGNiXu",
      "metadata": {
        "colab": {
          "base_uri": "https://localhost:8080/",
          "height": 139
        },
        "id": "ACqNMaDGNiXu",
        "outputId": "99ea3ab2-36da-4a08-f643-b97485aa6be0"
      },
      "outputs": [
        {
          "name": "stdout",
          "output_type": "stream",
          "text": [
            " * sqlite:///ejemplos.db\n",
            "Done.\n"
          ]
        },
        {
          "data": {
            "text/html": [
              "<table>\n",
              "    <thead>\n",
              "        <tr>\n",
              "            <th>Ciudad</th>\n",
              "            <th>TotalIngresos</th>\n",
              "        </tr>\n",
              "    </thead>\n",
              "    <tbody>\n",
              "        <tr>\n",
              "            <td>Mendoza</td>\n",
              "            <td>720</td>\n",
              "        </tr>\n",
              "        <tr>\n",
              "            <td>San Salvador de Jujuy</td>\n",
              "            <td>780</td>\n",
              "        </tr>\n",
              "        <tr>\n",
              "            <td>Santa Fe</td>\n",
              "            <td>770</td>\n",
              "        </tr>\n",
              "    </tbody>\n",
              "</table>"
            ],
            "text/plain": [
              "[('Mendoza', 720), ('San Salvador de Jujuy', 780), ('Santa Fe', 770)]"
            ]
          },
          "execution_count": 5,
          "metadata": {},
          "output_type": "execute_result"
        }
      ],
      "source": [
        "%%sql\n",
        "select Ventas.Ciudad, sum(Ventas.CantidadVendida * Ventas.PrecioUnitario) as TotalIngresos\n",
        "from Ventas\n",
        "group by Ventas.Ciudad\n",
        "having TotalIngresos > 500;"
      ]
    },
    {
      "cell_type": "markdown",
      "id": "7a6a43fe",
      "metadata": {
        "id": "7a6a43fe"
      },
      "source": [
        "3. Modifique la consulta del inciso 2 para ordenar las Ciudades de mayor a menor ingreso total."
      ]
    },
    {
      "cell_type": "code",
      "execution_count": 6,
      "id": "kzhBe0qENiXv",
      "metadata": {
        "colab": {
          "base_uri": "https://localhost:8080/",
          "height": 139
        },
        "id": "kzhBe0qENiXv",
        "outputId": "3fe7c94c-72b4-4d05-ac31-ad83f9e94db3"
      },
      "outputs": [
        {
          "name": "stdout",
          "output_type": "stream",
          "text": [
            " * sqlite:///ejemplos.db\n",
            "Done.\n"
          ]
        },
        {
          "data": {
            "text/html": [
              "<table>\n",
              "    <thead>\n",
              "        <tr>\n",
              "            <th>Ciudad</th>\n",
              "            <th>TotalIngresos</th>\n",
              "        </tr>\n",
              "    </thead>\n",
              "    <tbody>\n",
              "        <tr>\n",
              "            <td>San Salvador de Jujuy</td>\n",
              "            <td>780</td>\n",
              "        </tr>\n",
              "        <tr>\n",
              "            <td>Santa Fe</td>\n",
              "            <td>770</td>\n",
              "        </tr>\n",
              "        <tr>\n",
              "            <td>Mendoza</td>\n",
              "            <td>720</td>\n",
              "        </tr>\n",
              "    </tbody>\n",
              "</table>"
            ],
            "text/plain": [
              "[('San Salvador de Jujuy', 780), ('Santa Fe', 770), ('Mendoza', 720)]"
            ]
          },
          "execution_count": 6,
          "metadata": {},
          "output_type": "execute_result"
        }
      ],
      "source": [
        "%%sql\n",
        "select Ventas.Ciudad, sum(Ventas.CantidadVendida * Ventas.PrecioUnitario) as TotalIngresos\n",
        "from Ventas\n",
        "group by Ventas.Ciudad\n",
        "having TotalIngresos > 500\n",
        "order by TotalIngresos desc;\n"
      ]
    },
    {
      "cell_type": "markdown",
      "id": "fRufPLTENiXv",
      "metadata": {
        "id": "fRufPLTENiXv"
      },
      "source": [
        "## Ejercicio 2: Promedio de Calificaciones por Curso\n",
        "\n",
        "Considera las siguientes tres tablas:\n",
        "\n",
        "- La tabla **Estudiantes** contiene información sobre los estudiantes inscritos:\n",
        "  - `EstudianteID` (INT, PRIMARY KEY)\n",
        "  - `Nombre` (VARCHAR)\n",
        "\n",
        "- La tabla **Cursos** contiene información sobre los cursos disponibles:\n",
        "  - `CursoID` (INT, PRIMARY KEY)\n",
        "  - `NombreCurso` (VARCHAR)\n",
        "\n",
        "- La tabla **Calificaciones** registra las notas de los estudiantes en los cursos:\n",
        "  - `CalificacionID` (INT, PRIMARY KEY)\n",
        "  - `EstudianteID` (INT, FOREIGN KEY que referencia a `Estudiantes(EstudianteID)`)\n",
        "  - `CursoID` (INT, FOREIGN KEY que referencia a `Cursos(CursoID)`)\n",
        "  - `Nota` (DECIMAL)\n",
        "\n",
        "En este ejercicio, debes analizar el rendimiento de los estudiantes en cada curso, combinando la información de las tres tablas."
      ]
    },
    {
      "cell_type": "code",
      "execution_count": 37,
      "id": "xd4jJS-oNiXv",
      "metadata": {
        "colab": {
          "base_uri": "https://localhost:8080/"
        },
        "id": "xd4jJS-oNiXv",
        "outputId": "4b987150-87c5-4f77-85a1-94d9b1a35c0c"
      },
      "outputs": [
        {
          "name": "stdout",
          "output_type": "stream",
          "text": [
            " * sqlite:///ejemplos.db\n",
            "Done.\n",
            "Done.\n",
            "Done.\n",
            "Done.\n",
            "Done.\n",
            "Done.\n"
          ]
        },
        {
          "data": {
            "text/plain": [
              "[]"
            ]
          },
          "execution_count": 37,
          "metadata": {},
          "output_type": "execute_result"
        }
      ],
      "source": [
        "%%sql\n",
        "-- Escribe aquí el código DDL para crear las tablas Estudiantes, Cursos y Calificaciones\n",
        "DROP TABLE IF EXISTS Estudiantes;\n",
        "DROP TABLE IF EXISTS Cursos;\n",
        "DROP TABLE IF EXISTS Calificaciones;\n",
        "CREATE TABLE Estudiantes (\n",
        "  EstudianteID INT PRIMARY KEY,\n",
        "  Nombre VARCHAR\n",
        ");\n",
        "\n",
        "CREATE TABLE Cursos (\n",
        "  CursoID INT PRIMARY KEY,\n",
        "  NombreCurso VARCHAR\n",
        ");\n",
        "\n",
        "CREATE TABLE Calificaciones (\n",
        "  CalificacionID INT PRIMARY KEY,\n",
        "  EstudianteID INT,\n",
        "  CursoID INT,\n",
        "  Nota DECIMAL\n",
        ");"
      ]
    },
    {
      "cell_type": "markdown",
      "id": "urovVyAXNiXw",
      "metadata": {
        "id": "urovVyAXNiXw"
      },
      "source": [
        "**Población de la tabla Calificaciones**\n",
        "\n"
      ]
    },
    {
      "cell_type": "code",
      "execution_count": null,
      "id": "fqMJXxAUNiXw",
      "metadata": {
        "colab": {
          "base_uri": "https://localhost:8080/"
        },
        "id": "fqMJXxAUNiXw",
        "outputId": "815c22c0-996d-4647-a6a1-35acfb4dccbb"
      },
      "outputs": [],
      "source": [
        "# Insertar datos en la tabla Calificaciones\n",
        "%%sql\n",
        "\n",
        "INSERT INTO Estudiantes (EstudianteID, Nombre) VALUES (1001, 'Carlos');\n",
        "INSERT INTO Estudiantes (EstudianteID, Nombre) VALUES (1002, 'Maria');\n",
        "INSERT INTO Estudiantes (EstudianteID, Nombre) VALUES (1003, 'Juan');\n",
        "INSERT INTO Estudiantes (EstudianteID, Nombre) VALUES (1004, 'Ana');\n",
        "INSERT INTO Estudiantes (EstudianteID, Nombre) VALUES (1005, 'Luis');\n",
        "INSERT INTO Estudiantes (EstudianteID, Nombre) VALUES (1006, 'Sofia');\n",
        "INSERT INTO Estudiantes (EstudianteID, Nombre) VALUES (1007, 'Diego');\n",
        "INSERT INTO Estudiantes (EstudianteID, Nombre) VALUES (1008, 'Laura');\n",
        "INSERT INTO Estudiantes (EstudianteID, Nombre) VALUES (1009, 'Javier');\n",
        "INSERT INTO Estudiantes (EstudianteID, Nombre) VALUES (1010, 'Fernanda');\n",
        "\n",
        "INSERT INTO Cursos (CursoID, NombreCurso) VALUES (201, 'Matemáticas');\n",
        "INSERT INTO Cursos (CursoID, NombreCurso) VALUES (202, 'Historia');\n",
        "INSERT INTO Cursos (CursoID, NombreCurso) VALUES (203, 'Ciencias');\n",
        "INSERT INTO Cursos (CursoID, NombreCurso) VALUES (204, 'Literatura');\n",
        "INSERT INTO Cursos (CursoID, NombreCurso) VALUES (205, 'Geografía');\n",
        "\n",
        "INSERT INTO Calificaciones (CalificacionID, EstudianteID, CursoID, Nota) VALUES (1, 1001, 201, 88.5);\n",
        "INSERT INTO Calificaciones (CalificacionID, EstudianteID, CursoID, Nota) VALUES (2, 1002, 202, 92.0);\n",
        "INSERT INTO Calificaciones (CalificacionID, EstudianteID, CursoID, Nota) VALUES (3, 1003, 201, 81.0);\n",
        "INSERT INTO Calificaciones (CalificacionID, EstudianteID, CursoID, Nota) VALUES (4, 1004, 203, 79.5);\n",
        "INSERT INTO Calificaciones (CalificacionID, EstudianteID, CursoID, Nota) VALUES (5, 1005, 202, 84.0);\n",
        "INSERT INTO Calificaciones (CalificacionID, EstudianteID, CursoID, Nota) VALUES (6, 1006, 204, 91.5);\n",
        "INSERT INTO Calificaciones (CalificacionID, EstudianteID, CursoID, Nota) VALUES (7, 1007, 205, 75.5);\n",
        "INSERT INTO Calificaciones (CalificacionID, EstudianteID, CursoID, Nota) VALUES (8, 1008, 204, 87.0);\n",
        "INSERT INTO Calificaciones (CalificacionID, EstudianteID, CursoID, Nota) VALUES (9, 1009, 203, 82.5);\n",
        "INSERT INTO Calificaciones (CalificacionID, EstudianteID, CursoID, Nota) VALUES (10, 1010, 205, 78.0);\n",
        "INSERT INTO Calificaciones (CalificacionID, EstudianteID, CursoID, Nota) VALUES (11, 1002, 201, 90.0);\n",
        "INSERT INTO Calificaciones (CalificacionID, EstudianteID, CursoID, Nota) VALUES (12, 1006, 202, 88.0);\n",
        "INSERT INTO Calificaciones (CalificacionID, EstudianteID, CursoID, Nota) VALUES (13, 1003, 203, 85.0);\n",
        "INSERT INTO Calificaciones (CalificacionID, EstudianteID, CursoID, Nota) VALUES (14, 1007, 201, 80.5);\n",
        "INSERT INTO Calificaciones (CalificacionID, EstudianteID, CursoID, Nota) VALUES (15, 1005, 204, 89.5);\n"
      ]
    },
    {
      "cell_type": "markdown",
      "id": "fxLxg4M1NiXw",
      "metadata": {
        "id": "fxLxg4M1NiXw"
      },
      "source": [
        "**Consignas del ejercicio:**\n",
        "\n",
        "1. Encuentre el promedio de `Nota` para cada `Curso`."
      ]
    },
    {
      "cell_type": "code",
      "execution_count": 42,
      "id": "zMGp3kBgNiXw",
      "metadata": {
        "colab": {
          "base_uri": "https://localhost:8080/",
          "height": 181
        },
        "id": "zMGp3kBgNiXw",
        "outputId": "11f9f1cc-115b-4e14-b515-5be6474f1d3a"
      },
      "outputs": [
        {
          "name": "stdout",
          "output_type": "stream",
          "text": [
            " * sqlite:///ejemplos.db\n",
            "Done.\n"
          ]
        },
        {
          "data": {
            "text/html": [
              "<table>\n",
              "    <thead>\n",
              "        <tr>\n",
              "            <th>NombreCurso</th>\n",
              "            <th>Promedio</th>\n",
              "        </tr>\n",
              "    </thead>\n",
              "    <tbody>\n",
              "        <tr>\n",
              "            <td>Geografía</td>\n",
              "            <td>76.75</td>\n",
              "        </tr>\n",
              "        <tr>\n",
              "            <td>Ciencias</td>\n",
              "            <td>82.33</td>\n",
              "        </tr>\n",
              "        <tr>\n",
              "            <td>Matemáticas</td>\n",
              "            <td>85.0</td>\n",
              "        </tr>\n",
              "        <tr>\n",
              "            <td>Historia</td>\n",
              "            <td>88.0</td>\n",
              "        </tr>\n",
              "        <tr>\n",
              "            <td>Literatura</td>\n",
              "            <td>89.33</td>\n",
              "        </tr>\n",
              "    </tbody>\n",
              "</table>"
            ],
            "text/plain": [
              "[('Geografía', 76.75),\n",
              " ('Ciencias', 82.33),\n",
              " ('Matemáticas', 85.0),\n",
              " ('Historia', 88.0),\n",
              " ('Literatura', 89.33)]"
            ]
          },
          "execution_count": 42,
          "metadata": {},
          "output_type": "execute_result"
        }
      ],
      "source": [
        "%%sql\n",
        "select NombreCurso,round(avg(Nota),2) as Promedio from calificaciones CAL\n",
        "join cursos CRS on CAL.CursoID = CRS.CursoID\n",
        "join estudiantes EST on CAL.EstudianteID = EST.EstudianteID\n",
        "group by NombreCurso\n",
        "order by promedio;"
      ]
    },
    {
      "cell_type": "markdown",
      "id": "722c022c",
      "metadata": {
        "id": "722c022c"
      },
      "source": [
        "2. Escriba el código SQL para listar los cursos con un promedio mayor a 85."
      ]
    },
    {
      "cell_type": "code",
      "execution_count": 44,
      "id": "w_YVVudPNiXx",
      "metadata": {
        "colab": {
          "base_uri": "https://localhost:8080/",
          "height": 118
        },
        "id": "w_YVVudPNiXx",
        "outputId": "63258c10-6399-424c-f5ab-1b51a0e4e076"
      },
      "outputs": [
        {
          "name": "stdout",
          "output_type": "stream",
          "text": [
            " * sqlite:///ejemplos.db\n",
            "Done.\n"
          ]
        },
        {
          "data": {
            "text/html": [
              "<table>\n",
              "    <thead>\n",
              "        <tr>\n",
              "            <th>NombreCurso</th>\n",
              "            <th>Promedio</th>\n",
              "        </tr>\n",
              "    </thead>\n",
              "    <tbody>\n",
              "        <tr>\n",
              "            <td>Historia</td>\n",
              "            <td>88.0</td>\n",
              "        </tr>\n",
              "        <tr>\n",
              "            <td>Literatura</td>\n",
              "            <td>89.33</td>\n",
              "        </tr>\n",
              "    </tbody>\n",
              "</table>"
            ],
            "text/plain": [
              "[('Historia', 88.0), ('Literatura', 89.33)]"
            ]
          },
          "execution_count": 44,
          "metadata": {},
          "output_type": "execute_result"
        }
      ],
      "source": [
        "%%sql\n",
        "select NombreCurso,round(avg(Nota),2) as Promedio from calificaciones CAL\n",
        "join cursos CRS on CAL.CursoID = CRS.CursoID\n",
        "join estudiantes EST on CAL.EstudianteID = EST.EstudianteID\n",
        "group by NombreCurso\n",
        "having promedio > 85\n",
        "order by promedio;\n"
      ]
    },
    {
      "cell_type": "markdown",
      "id": "04841eea",
      "metadata": {
        "id": "04841eea"
      },
      "source": [
        "\n",
        "3. Agregue una columna que muestre el número de estudiantes que han tomado cada curso cuyo promedio supera 85, ordenados en forma descendente por promedio."
      ]
    },
    {
      "cell_type": "code",
      "execution_count": 45,
      "id": "TBh31bsgNiXx",
      "metadata": {
        "colab": {
          "base_uri": "https://localhost:8080/",
          "height": 118
        },
        "id": "TBh31bsgNiXx",
        "outputId": "220033d7-4b11-4fd7-fd4c-94595f01cb3a"
      },
      "outputs": [
        {
          "name": "stdout",
          "output_type": "stream",
          "text": [
            " * sqlite:///ejemplos.db\n",
            "Done.\n"
          ]
        },
        {
          "data": {
            "text/html": [
              "<table>\n",
              "    <thead>\n",
              "        <tr>\n",
              "            <th>NombreCurso</th>\n",
              "            <th>Promedio</th>\n",
              "            <th>Estudiantes</th>\n",
              "        </tr>\n",
              "    </thead>\n",
              "    <tbody>\n",
              "        <tr>\n",
              "            <td>Literatura</td>\n",
              "            <td>89.33</td>\n",
              "            <td>3</td>\n",
              "        </tr>\n",
              "        <tr>\n",
              "            <td>Historia</td>\n",
              "            <td>88.0</td>\n",
              "            <td>3</td>\n",
              "        </tr>\n",
              "    </tbody>\n",
              "</table>"
            ],
            "text/plain": [
              "[('Literatura', 89.33, 3), ('Historia', 88.0, 3)]"
            ]
          },
          "execution_count": 45,
          "metadata": {},
          "output_type": "execute_result"
        }
      ],
      "source": [
        "%%sql\n",
        "select NombreCurso,round(avg(Nota),2) as Promedio, count(Nombre) as Estudiantes\n",
        "from calificaciones CAL\n",
        "join cursos CRS on CAL.CursoID = CRS.CursoID\n",
        "join estudiantes EST on CAL.EstudianteID = EST.EstudianteID\n",
        "group by NombreCurso\n",
        "having promedio > 85\n",
        "order by promedio desc;"
      ]
    },
    {
      "cell_type": "markdown",
      "id": "ReFeNTPaNiXx",
      "metadata": {
        "id": "ReFeNTPaNiXx"
      },
      "source": [
        "## Ejercicio 3: Conteo de Empleados por Departamento\n",
        "\n",
        "Tienes dos tablas llamadas `Empleados` y `Departamentos`:\n",
        "\n",
        "- La tabla `Empleados` tiene las siguientes columnas:\n",
        "  - `EmpleadoID` (INT)\n",
        "  - `Nombre` (VARCHAR)\n",
        "  - `DepartamentoID` (INT, FOREIGN KEY que referencia a `Departamentos(DepartamentoID)`)\n",
        "  - `Salario` (DECIMAL)\n",
        "\n",
        "- La tabla `Departamentos` tiene las siguientes columnas:\n",
        "  - `DepartamentoID` (INT, PRIMARY KEY)\n",
        "  - `NombreDepartamento` (VARCHAR)\n",
        "\n",
        "Deseas analizar la distribución de empleados en cada departamento, combinando la información de ambas tablas para mostrar el nombre del departamento y el número de empleados por cada uno.\n",
        "\n",
        "**Consignas a responder:**\n",
        "\n"
      ]
    },
    {
      "cell_type": "code",
      "execution_count": 18,
      "id": "TM-JwO9TNiXy",
      "metadata": {
        "colab": {
          "base_uri": "https://localhost:8080/"
        },
        "id": "TM-JwO9TNiXy",
        "outputId": "4fb3b6dc-53a6-4073-8053-9bbeebc991fa"
      },
      "outputs": [
        {
          "name": "stdout",
          "output_type": "stream",
          "text": [
            " * sqlite:///ejemplos.db\n",
            "Done.\n",
            "Done.\n"
          ]
        },
        {
          "data": {
            "text/plain": [
              "[]"
            ]
          },
          "execution_count": 18,
          "metadata": {},
          "output_type": "execute_result"
        }
      ],
      "source": [
        "%%sql\n",
        "-- Escribe aquí el código DDL para crear las tablas Empleados y Departamentos\n",
        "CREATE TABLE Empleados (\n",
        "  EmpleadoID INT,\n",
        "  Nombre VARCHAR,\n",
        "  DepartamentoID INT,\n",
        "  Salario DECIMAL\n",
        ");\n",
        "\n",
        "CREATE TABLE Departamentos (\n",
        "  DepartamentoID INT PRIMARY KEY,\n",
        "  NombreDepartamento VARCHAR\n",
        ");"
      ]
    },
    {
      "cell_type": "markdown",
      "id": "50OKu9KYNiXy",
      "metadata": {
        "id": "50OKu9KYNiXy"
      },
      "source": [
        "**Relleno de las tablas `Empleados` y `Departamentos`**\n",
        "\n"
      ]
    },
    {
      "cell_type": "code",
      "execution_count": null,
      "id": "6GvQ-IV1NiXy",
      "metadata": {
        "colab": {
          "base_uri": "https://localhost:8080/"
        },
        "id": "6GvQ-IV1NiXy",
        "outputId": "d2b18577-e895-461c-de89-fb9579a0b972"
      },
      "outputs": [],
      "source": [
        "%%sql\n",
        "INSERT INTO Empleados (EmpleadoID, Nombre, DepartamentoID, Salario) VALUES (5, 'Laura', 101, 3100);\n",
        "INSERT INTO Empleados (EmpleadoID, Nombre, DepartamentoID, Salario) VALUES (6, 'Javier', 104, 3300);\n",
        "INSERT INTO Empleados (EmpleadoID, Nombre, DepartamentoID, Salario) VALUES (7, 'Sofia', 105, 2900);\n",
        "INSERT INTO Empleados (EmpleadoID, Nombre, DepartamentoID, Salario) VALUES (8, 'Lucas', 105, 3700);\n",
        "INSERT INTO Empleados (EmpleadoID, Nombre, DepartamentoID, Salario) VALUES (9, 'Fernanda', 101, 3200);\n",
        "INSERT INTO Empleados (EmpleadoID, Nombre, DepartamentoID, Salario) VALUES (10, 'Diego', 104, 3400);\n",
        "INSERT INTO Empleados (EmpleadoID, Nombre, DepartamentoID, Salario) VALUES (11, 'Martina', 103, 4000);\n",
        "INSERT INTO Empleados (EmpleadoID, Nombre, DepartamentoID, Salario) VALUES (12, 'Gustavo', 105, 2950);\n",
        "INSERT INTO Empleados (EmpleadoID, Nombre, DepartamentoID, Salario) VALUES (13, 'Liliana', 106, 3800);\n",
        "INSERT INTO Empleados (EmpleadoID, Nombre, DepartamentoID, Salario) VALUES (14, 'Gabriel', 106, 4100);\n",
        "INSERT INTO Empleados (EmpleadoID, Nombre, DepartamentoID, Salario) VALUES (15, 'Natalia', 102, 3600);\n",
        "\n",
        "INSERT INTO Departamentos (DepartamentoID, NombreDepartamento) VALUES (101, 'Marketing');\n",
        "INSERT INTO Departamentos (DepartamentoID, NombreDepartamento) VALUES (102, 'Ventas');\n",
        "INSERT INTO Departamentos (DepartamentoID, NombreDepartamento) VALUES (103, 'Recursos Humanos');\n",
        "INSERT INTO Departamentos (DepartamentoID, NombreDepartamento) VALUES (104, 'Desarrollo de Producto');\n",
        "INSERT INTO Departamentos (DepartamentoID, NombreDepartamento) VALUES (105, 'Investigación de Mercado');\n",
        "INSERT INTO Departamentos (DepartamentoID, NombreDepartamento) VALUES (106, 'Atención al Cliente');\n"
      ]
    },
    {
      "cell_type": "markdown",
      "id": "Oy_3JkD3NiXy",
      "metadata": {
        "id": "Oy_3JkD3NiXy"
      },
      "source": [
        "**Consignas del ejercicio:**\n",
        "\n",
        "1. Encuentre el número total de empleados en cada departamento.\n"
      ]
    },
    {
      "cell_type": "code",
      "execution_count": 46,
      "id": "Z9-3BGMFNiXy",
      "metadata": {
        "colab": {
          "base_uri": "https://localhost:8080/",
          "height": 202
        },
        "id": "Z9-3BGMFNiXy",
        "outputId": "c98148c0-0b09-46fd-d3a5-6ac35bc7485a"
      },
      "outputs": [
        {
          "name": "stdout",
          "output_type": "stream",
          "text": [
            " * sqlite:///ejemplos.db\n",
            "Done.\n"
          ]
        },
        {
          "data": {
            "text/html": [
              "<table>\n",
              "    <thead>\n",
              "        <tr>\n",
              "            <th>NombreDepartamento</th>\n",
              "            <th>TotalEmpleados</th>\n",
              "        </tr>\n",
              "    </thead>\n",
              "    <tbody>\n",
              "        <tr>\n",
              "            <td>Atención al Cliente</td>\n",
              "            <td>2</td>\n",
              "        </tr>\n",
              "        <tr>\n",
              "            <td>Desarrollo de Producto</td>\n",
              "            <td>2</td>\n",
              "        </tr>\n",
              "        <tr>\n",
              "            <td>Investigación de Mercado</td>\n",
              "            <td>3</td>\n",
              "        </tr>\n",
              "        <tr>\n",
              "            <td>Marketing</td>\n",
              "            <td>2</td>\n",
              "        </tr>\n",
              "        <tr>\n",
              "            <td>Recursos Humanos</td>\n",
              "            <td>1</td>\n",
              "        </tr>\n",
              "        <tr>\n",
              "            <td>Ventas</td>\n",
              "            <td>1</td>\n",
              "        </tr>\n",
              "    </tbody>\n",
              "</table>"
            ],
            "text/plain": [
              "[('Atención al Cliente', 2),\n",
              " ('Desarrollo de Producto', 2),\n",
              " ('Investigación de Mercado', 3),\n",
              " ('Marketing', 2),\n",
              " ('Recursos Humanos', 1),\n",
              " ('Ventas', 1)]"
            ]
          },
          "execution_count": 46,
          "metadata": {},
          "output_type": "execute_result"
        }
      ],
      "source": [
        "%%sql\n",
        "select NombreDepartamento, count(Nombre) as TotalEmpleados\n",
        "from Empleados EMP\n",
        "join Departamentos DEP on EMP.DepartamentoID = DEP.DepartamentoID\n",
        "group by NombreDepartamento;"
      ]
    },
    {
      "cell_type": "markdown",
      "id": "dd365a64",
      "metadata": {
        "id": "dd365a64"
      },
      "source": [
        "2. Escriba el código SQL para listar los departamentos que tienen más de 2 empleados."
      ]
    },
    {
      "cell_type": "code",
      "execution_count": 48,
      "id": "UYodiO03NiXy",
      "metadata": {
        "colab": {
          "base_uri": "https://localhost:8080/",
          "height": 160
        },
        "id": "UYodiO03NiXy",
        "outputId": "8534380c-8dad-4e2f-ae6f-5917250da77c"
      },
      "outputs": [
        {
          "name": "stdout",
          "output_type": "stream",
          "text": [
            " * sqlite:///ejemplos.db\n",
            "Done.\n"
          ]
        },
        {
          "data": {
            "text/html": [
              "<table>\n",
              "    <thead>\n",
              "        <tr>\n",
              "            <th>NombreDepartamento</th>\n",
              "            <th>TotalEmpleados</th>\n",
              "        </tr>\n",
              "    </thead>\n",
              "    <tbody>\n",
              "        <tr>\n",
              "            <td>Atención al Cliente</td>\n",
              "            <td>2</td>\n",
              "        </tr>\n",
              "        <tr>\n",
              "            <td>Desarrollo de Producto</td>\n",
              "            <td>2</td>\n",
              "        </tr>\n",
              "        <tr>\n",
              "            <td>Investigación de Mercado</td>\n",
              "            <td>3</td>\n",
              "        </tr>\n",
              "        <tr>\n",
              "            <td>Marketing</td>\n",
              "            <td>2</td>\n",
              "        </tr>\n",
              "    </tbody>\n",
              "</table>"
            ],
            "text/plain": [
              "[('Atención al Cliente', 2),\n",
              " ('Desarrollo de Producto', 2),\n",
              " ('Investigación de Mercado', 3),\n",
              " ('Marketing', 2)]"
            ]
          },
          "execution_count": 48,
          "metadata": {},
          "output_type": "execute_result"
        }
      ],
      "source": [
        "%%sql\n",
        "select NombreDepartamento, count(Nombre) as TotalEmpleados\n",
        "from Empleados EMP\n",
        "join Departamentos DEP on EMP.DepartamentoID = DEP.DepartamentoID\n",
        "group by NombreDepartamento\n",
        "having TotalEmpleados >= 2;"
      ]
    },
    {
      "cell_type": "markdown",
      "id": "67a157bb",
      "metadata": {
        "id": "67a157bb"
      },
      "source": [
        "\n",
        "3. Muestre el salario promedio de los empleados por cada departamento ordenados promedio en forma descendente."
      ]
    },
    {
      "cell_type": "code",
      "execution_count": 51,
      "id": "xfVqujA5NiXy",
      "metadata": {
        "colab": {
          "base_uri": "https://localhost:8080/",
          "height": 202
        },
        "id": "xfVqujA5NiXy",
        "outputId": "08d28aab-b5ed-4c50-d037-346253dfef89"
      },
      "outputs": [
        {
          "name": "stdout",
          "output_type": "stream",
          "text": [
            " * sqlite:///ejemplos.db\n",
            "Done.\n"
          ]
        },
        {
          "data": {
            "text/html": [
              "<table>\n",
              "    <thead>\n",
              "        <tr>\n",
              "            <th>DepartamentoID</th>\n",
              "            <th>NombreDepartamento</th>\n",
              "            <th>TotalEmpleados</th>\n",
              "            <th>SalarioPromedio</th>\n",
              "        </tr>\n",
              "    </thead>\n",
              "    <tbody>\n",
              "        <tr>\n",
              "            <td>103</td>\n",
              "            <td>Recursos Humanos</td>\n",
              "            <td>1</td>\n",
              "            <td>4000</td>\n",
              "        </tr>\n",
              "        <tr>\n",
              "            <td>106</td>\n",
              "            <td>Atención al Cliente</td>\n",
              "            <td>2</td>\n",
              "            <td>3950</td>\n",
              "        </tr>\n",
              "        <tr>\n",
              "            <td>102</td>\n",
              "            <td>Ventas</td>\n",
              "            <td>1</td>\n",
              "            <td>3600</td>\n",
              "        </tr>\n",
              "        <tr>\n",
              "            <td>104</td>\n",
              "            <td>Desarrollo de Producto</td>\n",
              "            <td>2</td>\n",
              "            <td>3350</td>\n",
              "        </tr>\n",
              "        <tr>\n",
              "            <td>105</td>\n",
              "            <td>Investigación de Mercado</td>\n",
              "            <td>3</td>\n",
              "            <td>3183</td>\n",
              "        </tr>\n",
              "        <tr>\n",
              "            <td>101</td>\n",
              "            <td>Marketing</td>\n",
              "            <td>2</td>\n",
              "            <td>3150</td>\n",
              "        </tr>\n",
              "    </tbody>\n",
              "</table>"
            ],
            "text/plain": [
              "[(103, 'Recursos Humanos', 1, 4000),\n",
              " (106, 'Atención al Cliente', 2, 3950),\n",
              " (102, 'Ventas', 1, 3600),\n",
              " (104, 'Desarrollo de Producto', 2, 3350),\n",
              " (105, 'Investigación de Mercado', 3, 3183),\n",
              " (101, 'Marketing', 2, 3150)]"
            ]
          },
          "execution_count": 51,
          "metadata": {},
          "output_type": "execute_result"
        }
      ],
      "source": [
        "%%sql\n",
        "select DEP.DepartamentoID,NombreDepartamento, count(Nombre) as TotalEmpleados,sum(EMP.salario)/count(Nombre) as SalarioPromedio\n",
        "from Empleados EMP\n",
        "join Departamentos DEP on EMP.DepartamentoID = DEP.DepartamentoID\n",
        "group by NombreDepartamento\n",
        "order by SalarioPromedio desc;"
      ]
    }
  ],
  "metadata": {
    "colab": {
      "provenance": []
    },
    "kernelspec": {
      "display_name": "Python 3",
      "name": "python3"
    },
    "language_info": {
      "name": "python",
      "version": "3.12.3"
    }
  },
  "nbformat": 4,
  "nbformat_minor": 5
}
